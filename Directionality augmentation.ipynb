{
 "cells": [
  {
   "cell_type": "code",
   "execution_count": 3,
   "metadata": {},
   "outputs": [],
   "source": [
    "import pandas as pd\n",
    "import re\n",
    "\n",
    "# itertools — Functions creating iterators for efficient looping\n",
    "# The module standardizes a core set of fast, memory efficient tools that are useful by themselves or in combination. \n",
    "from itertools import product,combinations"
   ]
  },
  {
   "cell_type": "markdown",
   "metadata": {},
   "source": [
    "[itertools](https://docs.python.org/3/library/itertools.html)"
   ]
  },
  {
   "cell_type": "code",
   "execution_count": 6,
   "metadata": {},
   "outputs": [],
   "source": [
    "file_path = 'test_data/corpus-q3.csv'\n",
    "df = pd.read_csv(file_path)"
   ]
  },
  {
   "cell_type": "code",
   "execution_count": 379,
   "metadata": {},
   "outputs": [
    {
     "data": {
      "text/html": [
       "<div>\n",
       "<style scoped>\n",
       "    .dataframe tbody tr th:only-of-type {\n",
       "        vertical-align: middle;\n",
       "    }\n",
       "\n",
       "    .dataframe tbody tr th {\n",
       "        vertical-align: top;\n",
       "    }\n",
       "\n",
       "    .dataframe thead th {\n",
       "        text-align: right;\n",
       "    }\n",
       "</style>\n",
       "<table border=\"1\" class=\"dataframe\">\n",
       "  <thead>\n",
       "    <tr style=\"text-align: right;\">\n",
       "      <th></th>\n",
       "      <th>gr</th>\n",
       "      <th>gi</th>\n",
       "    </tr>\n",
       "  </thead>\n",
       "  <tbody>\n",
       "    <tr>\n",
       "      <th>0</th>\n",
       "      <td>IMPROVISAÇÃO GRAVAR BANDA AJUDAR ESTIMULAR PRO...</td>\n",
       "      <td>IMPROVISAR GRAVAÇÃO BANDA&amp;MÚSICA 1S_AJUDAR_2S ...</td>\n",
       "    </tr>\n",
       "    <tr>\n",
       "      <th>1</th>\n",
       "      <td>EU PODER NUNCA MAIS VER VOCÊ NOVO [PONTO]</td>\n",
       "      <td>PODER&amp;POSSIBILIDADE NUNCA MAIS&amp;SOMAR 1S_VER_2S...</td>\n",
       "    </tr>\n",
       "    <tr>\n",
       "      <th>2</th>\n",
       "      <td>TER TODO RIQUEZA MUNDO PARA DAR # NEM SABER CO...</td>\n",
       "      <td>TER TODO RIQUEZA MUNDO 1S_DAR_2S ELES NÃO_SABE...</td>\n",
       "    </tr>\n",
       "    <tr>\n",
       "      <th>3</th>\n",
       "      <td>IDEIA ELE SER MELHOR QUE SEU [PONTO]</td>\n",
       "      <td>IDEIA DELA MELHOR 3S_DO_QUE_2S [PONTO]</td>\n",
       "    </tr>\n",
       "    <tr>\n",
       "      <th>4</th>\n",
       "      <td>TOM BEBER MAIS QUE EU [PONTO]</td>\n",
       "      <td>TOM BEBER MAIS&amp;QUANTIDADE 3S_DO_QUE_1S [PONTO]</td>\n",
       "    </tr>\n",
       "    <tr>\n",
       "      <th>5</th>\n",
       "      <td>EU SER MAIS VELHO QUE TOM [PONTO]</td>\n",
       "      <td>MAIS&amp;QUANTIDADE VELHO 1S_DO_QUE_3S [PONTO]</td>\n",
       "    </tr>\n",
       "  </tbody>\n",
       "</table>\n",
       "</div>"
      ],
      "text/plain": [
       "                                                  gr  \\\n",
       "0  IMPROVISAÇÃO GRAVAR BANDA AJUDAR ESTIMULAR PRO...   \n",
       "1          EU PODER NUNCA MAIS VER VOCÊ NOVO [PONTO]   \n",
       "2  TER TODO RIQUEZA MUNDO PARA DAR # NEM SABER CO...   \n",
       "3               IDEIA ELE SER MELHOR QUE SEU [PONTO]   \n",
       "4                      TOM BEBER MAIS QUE EU [PONTO]   \n",
       "5                  EU SER MAIS VELHO QUE TOM [PONTO]   \n",
       "\n",
       "                                                  gi  \n",
       "0  IMPROVISAR GRAVAÇÃO BANDA&MÚSICA 1S_AJUDAR_2S ...  \n",
       "1  PODER&POSSIBILIDADE NUNCA MAIS&SOMAR 1S_VER_2S...  \n",
       "2  TER TODO RIQUEZA MUNDO 1S_DAR_2S ELES NÃO_SABE...  \n",
       "3             IDEIA DELA MELHOR 3S_DO_QUE_2S [PONTO]  \n",
       "4     TOM BEBER MAIS&QUANTIDADE 3S_DO_QUE_1S [PONTO]  \n",
       "5         MAIS&QUANTIDADE VELHO 1S_DO_QUE_3S [PONTO]  "
      ]
     },
     "execution_count": 379,
     "metadata": {},
     "output_type": "execute_result"
    }
   ],
   "source": [
    "df"
   ]
  },
  {
   "cell_type": "code",
   "execution_count": 418,
   "metadata": {},
   "outputs": [],
   "source": [
    "# Persons of verbs\n",
    "# [1-3][SP] = [(eu,nós),(tu,vós),(ele,eles)]\n",
    "\n",
    "nums = ['1','2','3']\n",
    "lts = ['S','P']\n",
    "\n",
    "combinations = product(nums,lts, repeat=1)\n",
    "combinations = product(combinations, repeat=2)\n",
    "\n",
    "# Toal combinations for directionality augmentation\n",
    "mylist = []\n",
    "for i in combinations:\n",
    "    \n",
    "    left = i[0][0]+i[0][1] #left side of the verb\n",
    "    rigth = i[1][0]+i[1][1] #rigth side of the verb\n",
    "    \n",
    "    mylist.append((left,rigth))"
   ]
  },
  {
   "cell_type": "code",
   "execution_count": null,
   "metadata": {},
   "outputs": [],
   "source": []
  },
  {
   "cell_type": "code",
   "execution_count": 420,
   "metadata": {},
   "outputs": [],
   "source": [
    "def directionality_augmentation(tuple_string):\n",
    "    '''Directionality augmentation of phrase gi, miss gr'''\n",
    "    \n",
    "    # Lembrar de não usar \\w , substituir por: REGEX_LATIN = 'A-ZÁÉÍÓÚÀÂÊÔÃÕÜÇa-záéíóúàâêôãõüç'\n",
    "    w ='[A-ZÁÉÍÓÚÀÂÊÔÃÕÜÇa-záéíóúàâêôãõüç]+'\n",
    "\n",
    "    pattern1 = '[1-3][SP](_'+w+'_)[1-3][SP]'\n",
    "    pattern2 = '[1-3][SP]_'+w+'_[1-3][SP]'\n",
    "\n",
    "    x = re.findall(pattern1,tuple_string[1])\n",
    "\n",
    "    left_verb = re.findall('(.+)'+pattern2,\n",
    "                           tuple_string[1])#pegando o lago esquerdo do verbo\n",
    "\n",
    "    right_verb = re.findall(pattern2+'(.+)',\n",
    "                            tuple_string[1])#pegando o lago direito do verbo\n",
    "\n",
    "    result_all = []\n",
    "    for person in mylist:\n",
    "        verb = person[0] + x[0] + person[1]\n",
    "\n",
    "        result_all.append(left_verb[0] + verb[0] + right_verb[0])\n",
    "        \n",
    "    return result_all\n"
   ]
  },
  {
   "cell_type": "code",
   "execution_count": 421,
   "metadata": {
    "scrolled": true
   },
   "outputs": [
    {
     "data": {
      "text/plain": [
       "['IMPROVISAR GRAVAÇÃO BANDA&MÚSICA 1 ESTIMULAR CRIATIVO DEPOIS DOIS SEMANA TER SESSENTA E CINCO MÚSICA [PONTO]',\n",
       " 'IMPROVISAR GRAVAÇÃO BANDA&MÚSICA 1 ESTIMULAR CRIATIVO DEPOIS DOIS SEMANA TER SESSENTA E CINCO MÚSICA [PONTO]',\n",
       " 'IMPROVISAR GRAVAÇÃO BANDA&MÚSICA 1 ESTIMULAR CRIATIVO DEPOIS DOIS SEMANA TER SESSENTA E CINCO MÚSICA [PONTO]',\n",
       " 'IMPROVISAR GRAVAÇÃO BANDA&MÚSICA 1 ESTIMULAR CRIATIVO DEPOIS DOIS SEMANA TER SESSENTA E CINCO MÚSICA [PONTO]',\n",
       " 'IMPROVISAR GRAVAÇÃO BANDA&MÚSICA 1 ESTIMULAR CRIATIVO DEPOIS DOIS SEMANA TER SESSENTA E CINCO MÚSICA [PONTO]',\n",
       " 'IMPROVISAR GRAVAÇÃO BANDA&MÚSICA 1 ESTIMULAR CRIATIVO DEPOIS DOIS SEMANA TER SESSENTA E CINCO MÚSICA [PONTO]',\n",
       " 'IMPROVISAR GRAVAÇÃO BANDA&MÚSICA 1 ESTIMULAR CRIATIVO DEPOIS DOIS SEMANA TER SESSENTA E CINCO MÚSICA [PONTO]',\n",
       " 'IMPROVISAR GRAVAÇÃO BANDA&MÚSICA 1 ESTIMULAR CRIATIVO DEPOIS DOIS SEMANA TER SESSENTA E CINCO MÚSICA [PONTO]',\n",
       " 'IMPROVISAR GRAVAÇÃO BANDA&MÚSICA 1 ESTIMULAR CRIATIVO DEPOIS DOIS SEMANA TER SESSENTA E CINCO MÚSICA [PONTO]',\n",
       " 'IMPROVISAR GRAVAÇÃO BANDA&MÚSICA 1 ESTIMULAR CRIATIVO DEPOIS DOIS SEMANA TER SESSENTA E CINCO MÚSICA [PONTO]',\n",
       " 'IMPROVISAR GRAVAÇÃO BANDA&MÚSICA 1 ESTIMULAR CRIATIVO DEPOIS DOIS SEMANA TER SESSENTA E CINCO MÚSICA [PONTO]',\n",
       " 'IMPROVISAR GRAVAÇÃO BANDA&MÚSICA 1 ESTIMULAR CRIATIVO DEPOIS DOIS SEMANA TER SESSENTA E CINCO MÚSICA [PONTO]',\n",
       " 'IMPROVISAR GRAVAÇÃO BANDA&MÚSICA 2 ESTIMULAR CRIATIVO DEPOIS DOIS SEMANA TER SESSENTA E CINCO MÚSICA [PONTO]',\n",
       " 'IMPROVISAR GRAVAÇÃO BANDA&MÚSICA 2 ESTIMULAR CRIATIVO DEPOIS DOIS SEMANA TER SESSENTA E CINCO MÚSICA [PONTO]',\n",
       " 'IMPROVISAR GRAVAÇÃO BANDA&MÚSICA 2 ESTIMULAR CRIATIVO DEPOIS DOIS SEMANA TER SESSENTA E CINCO MÚSICA [PONTO]',\n",
       " 'IMPROVISAR GRAVAÇÃO BANDA&MÚSICA 2 ESTIMULAR CRIATIVO DEPOIS DOIS SEMANA TER SESSENTA E CINCO MÚSICA [PONTO]',\n",
       " 'IMPROVISAR GRAVAÇÃO BANDA&MÚSICA 2 ESTIMULAR CRIATIVO DEPOIS DOIS SEMANA TER SESSENTA E CINCO MÚSICA [PONTO]',\n",
       " 'IMPROVISAR GRAVAÇÃO BANDA&MÚSICA 2 ESTIMULAR CRIATIVO DEPOIS DOIS SEMANA TER SESSENTA E CINCO MÚSICA [PONTO]',\n",
       " 'IMPROVISAR GRAVAÇÃO BANDA&MÚSICA 2 ESTIMULAR CRIATIVO DEPOIS DOIS SEMANA TER SESSENTA E CINCO MÚSICA [PONTO]',\n",
       " 'IMPROVISAR GRAVAÇÃO BANDA&MÚSICA 2 ESTIMULAR CRIATIVO DEPOIS DOIS SEMANA TER SESSENTA E CINCO MÚSICA [PONTO]',\n",
       " 'IMPROVISAR GRAVAÇÃO BANDA&MÚSICA 2 ESTIMULAR CRIATIVO DEPOIS DOIS SEMANA TER SESSENTA E CINCO MÚSICA [PONTO]',\n",
       " 'IMPROVISAR GRAVAÇÃO BANDA&MÚSICA 2 ESTIMULAR CRIATIVO DEPOIS DOIS SEMANA TER SESSENTA E CINCO MÚSICA [PONTO]',\n",
       " 'IMPROVISAR GRAVAÇÃO BANDA&MÚSICA 2 ESTIMULAR CRIATIVO DEPOIS DOIS SEMANA TER SESSENTA E CINCO MÚSICA [PONTO]',\n",
       " 'IMPROVISAR GRAVAÇÃO BANDA&MÚSICA 2 ESTIMULAR CRIATIVO DEPOIS DOIS SEMANA TER SESSENTA E CINCO MÚSICA [PONTO]',\n",
       " 'IMPROVISAR GRAVAÇÃO BANDA&MÚSICA 3 ESTIMULAR CRIATIVO DEPOIS DOIS SEMANA TER SESSENTA E CINCO MÚSICA [PONTO]',\n",
       " 'IMPROVISAR GRAVAÇÃO BANDA&MÚSICA 3 ESTIMULAR CRIATIVO DEPOIS DOIS SEMANA TER SESSENTA E CINCO MÚSICA [PONTO]',\n",
       " 'IMPROVISAR GRAVAÇÃO BANDA&MÚSICA 3 ESTIMULAR CRIATIVO DEPOIS DOIS SEMANA TER SESSENTA E CINCO MÚSICA [PONTO]',\n",
       " 'IMPROVISAR GRAVAÇÃO BANDA&MÚSICA 3 ESTIMULAR CRIATIVO DEPOIS DOIS SEMANA TER SESSENTA E CINCO MÚSICA [PONTO]',\n",
       " 'IMPROVISAR GRAVAÇÃO BANDA&MÚSICA 3 ESTIMULAR CRIATIVO DEPOIS DOIS SEMANA TER SESSENTA E CINCO MÚSICA [PONTO]',\n",
       " 'IMPROVISAR GRAVAÇÃO BANDA&MÚSICA 3 ESTIMULAR CRIATIVO DEPOIS DOIS SEMANA TER SESSENTA E CINCO MÚSICA [PONTO]',\n",
       " 'IMPROVISAR GRAVAÇÃO BANDA&MÚSICA 3 ESTIMULAR CRIATIVO DEPOIS DOIS SEMANA TER SESSENTA E CINCO MÚSICA [PONTO]',\n",
       " 'IMPROVISAR GRAVAÇÃO BANDA&MÚSICA 3 ESTIMULAR CRIATIVO DEPOIS DOIS SEMANA TER SESSENTA E CINCO MÚSICA [PONTO]',\n",
       " 'IMPROVISAR GRAVAÇÃO BANDA&MÚSICA 3 ESTIMULAR CRIATIVO DEPOIS DOIS SEMANA TER SESSENTA E CINCO MÚSICA [PONTO]',\n",
       " 'IMPROVISAR GRAVAÇÃO BANDA&MÚSICA 3 ESTIMULAR CRIATIVO DEPOIS DOIS SEMANA TER SESSENTA E CINCO MÚSICA [PONTO]',\n",
       " 'IMPROVISAR GRAVAÇÃO BANDA&MÚSICA 3 ESTIMULAR CRIATIVO DEPOIS DOIS SEMANA TER SESSENTA E CINCO MÚSICA [PONTO]',\n",
       " 'IMPROVISAR GRAVAÇÃO BANDA&MÚSICA 3 ESTIMULAR CRIATIVO DEPOIS DOIS SEMANA TER SESSENTA E CINCO MÚSICA [PONTO]']"
      ]
     },
     "execution_count": 421,
     "metadata": {},
     "output_type": "execute_result"
    }
   ],
   "source": [
    "tuple_string = (df['gr'][0],df['gi'][0])\n",
    "\n",
    "augmentation_person(tuple_string)"
   ]
  },
  {
   "cell_type": "markdown",
   "metadata": {},
   "source": [
    "### Temos o seguinte problema. Além de gerar as novas frases do [gi] também temos que gerar para [gr]."
   ]
  },
  {
   "cell_type": "code",
   "execution_count": null,
   "metadata": {},
   "outputs": [],
   "source": []
  }
 ],
 "metadata": {
  "kernelspec": {
   "display_name": "Python 3",
   "language": "python",
   "name": "python3"
  },
  "language_info": {
   "codemirror_mode": {
    "name": "ipython",
    "version": 3
   },
   "file_extension": ".py",
   "mimetype": "text/x-python",
   "name": "python",
   "nbconvert_exporter": "python",
   "pygments_lexer": "ipython3",
   "version": "3.7.0"
  }
 },
 "nbformat": 4,
 "nbformat_minor": 4
}
